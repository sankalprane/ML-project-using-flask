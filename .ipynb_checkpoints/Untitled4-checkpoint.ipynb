{
 "cells": [
  {
   "cell_type": "code",
   "execution_count": 6,
   "metadata": {},
   "outputs": [],
   "source": [
    "# Importing the libraries\n",
    "import numpy as np\n",
    "import matplotlib.pyplot as plt\n",
    "import pandas as pd\n",
    "import pickle\n",
    "\n",
    "df = pd.read_csv('Allrounder.csv')\n",
    "\n",
    "df.dropna(inplace=True)"
   ]
  },
  {
   "cell_type": "code",
   "execution_count": 7,
   "metadata": {},
   "outputs": [
    {
     "data": {
      "text/html": [
       "<div>\n",
       "<style scoped>\n",
       "    .dataframe tbody tr th:only-of-type {\n",
       "        vertical-align: middle;\n",
       "    }\n",
       "\n",
       "    .dataframe tbody tr th {\n",
       "        vertical-align: top;\n",
       "    }\n",
       "\n",
       "    .dataframe thead th {\n",
       "        text-align: right;\n",
       "    }\n",
       "</style>\n",
       "<table border=\"1\" class=\"dataframe\">\n",
       "  <thead>\n",
       "    <tr style=\"text-align: right;\">\n",
       "      <th></th>\n",
       "      <th>Sr.No.</th>\n",
       "      <th>Name</th>\n",
       "      <th>Matches Played</th>\n",
       "      <th>Wickets</th>\n",
       "      <th>Runs Scored</th>\n",
       "      <th>Home Strike Rate</th>\n",
       "      <th>Away Strike Rate</th>\n",
       "      <th>Home Average</th>\n",
       "      <th>Away Average</th>\n",
       "      <th>Ground</th>\n",
       "      <th>Home Away</th>\n",
       "      <th>Opponent</th>\n",
       "      <th>Weather</th>\n",
       "      <th>Pitch</th>\n",
       "      <th>Result</th>\n",
       "    </tr>\n",
       "  </thead>\n",
       "  <tbody>\n",
       "    <tr>\n",
       "      <th>0</th>\n",
       "      <td>1</td>\n",
       "      <td>RA Jadeja</td>\n",
       "      <td>165</td>\n",
       "      <td>187</td>\n",
       "      <td>0</td>\n",
       "      <td>84.20</td>\n",
       "      <td>86.89</td>\n",
       "      <td>27.79</td>\n",
       "      <td>34.50</td>\n",
       "      <td>Trinidad</td>\n",
       "      <td>Away</td>\n",
       "      <td>West Indies</td>\n",
       "      <td>Hot and humid</td>\n",
       "      <td>Slow</td>\n",
       "      <td>0</td>\n",
       "    </tr>\n",
       "    <tr>\n",
       "      <th>1</th>\n",
       "      <td>2</td>\n",
       "      <td>KM Jadhav</td>\n",
       "      <td>73</td>\n",
       "      <td>27</td>\n",
       "      <td>16</td>\n",
       "      <td>103.81</td>\n",
       "      <td>99.05</td>\n",
       "      <td>42.39</td>\n",
       "      <td>41.73</td>\n",
       "      <td>Trinidad</td>\n",
       "      <td>Away</td>\n",
       "      <td>West Indies</td>\n",
       "      <td>Hot and humid</td>\n",
       "      <td>Slow</td>\n",
       "      <td>0</td>\n",
       "    </tr>\n",
       "    <tr>\n",
       "      <th>2</th>\n",
       "      <td>3</td>\n",
       "      <td>RA Jadeja</td>\n",
       "      <td>165</td>\n",
       "      <td>187</td>\n",
       "      <td>16</td>\n",
       "      <td>84.20</td>\n",
       "      <td>86.89</td>\n",
       "      <td>27.79</td>\n",
       "      <td>34.50</td>\n",
       "      <td>Trinidad</td>\n",
       "      <td>Away</td>\n",
       "      <td>West Indies</td>\n",
       "      <td>Hot and humid</td>\n",
       "      <td>Slow</td>\n",
       "      <td>0</td>\n",
       "    </tr>\n",
       "    <tr>\n",
       "      <th>3</th>\n",
       "      <td>4</td>\n",
       "      <td>H Pandya</td>\n",
       "      <td>54</td>\n",
       "      <td>54</td>\n",
       "      <td>15</td>\n",
       "      <td>111.82</td>\n",
       "      <td>119.19</td>\n",
       "      <td>37.83</td>\n",
       "      <td>25.15</td>\n",
       "      <td>Trinidad</td>\n",
       "      <td>Away</td>\n",
       "      <td>West Indies</td>\n",
       "      <td>Hot and humid</td>\n",
       "      <td>Slow</td>\n",
       "      <td>0</td>\n",
       "    </tr>\n",
       "    <tr>\n",
       "      <th>4</th>\n",
       "      <td>5</td>\n",
       "      <td>V Shankar</td>\n",
       "      <td>12</td>\n",
       "      <td>4</td>\n",
       "      <td>15</td>\n",
       "      <td>112.15</td>\n",
       "      <td>74.10</td>\n",
       "      <td>30.00</td>\n",
       "      <td>34.33</td>\n",
       "      <td>Trinidad</td>\n",
       "      <td>Away</td>\n",
       "      <td>West Indies</td>\n",
       "      <td>Hot and humid</td>\n",
       "      <td>Slow</td>\n",
       "      <td>0</td>\n",
       "    </tr>\n",
       "  </tbody>\n",
       "</table>\n",
       "</div>"
      ],
      "text/plain": [
       "    Sr.No.       Name  Matches Played  Wickets  Runs Scored  Home Strike Rate  \\\n",
       "0        1  RA Jadeja             165      187            0             84.20   \n",
       "1        2  KM Jadhav              73       27           16            103.81   \n",
       "2        3  RA Jadeja             165      187           16             84.20   \n",
       "3        4   H Pandya              54       54           15            111.82   \n",
       "4        5  V Shankar              12        4           15            112.15   \n",
       "\n",
       "   Away Strike Rate  Home Average  Away Average    Ground Home Away  \\\n",
       "0             86.89         27.79         34.50  Trinidad      Away   \n",
       "1             99.05         42.39         41.73  Trinidad      Away   \n",
       "2             86.89         27.79         34.50  Trinidad      Away   \n",
       "3            119.19         37.83         25.15  Trinidad      Away   \n",
       "4             74.10         30.00         34.33  Trinidad      Away   \n",
       "\n",
       "      Opponent        Weather Pitch  Result  \n",
       "0  West Indies  Hot and humid  Slow       0  \n",
       "1  West Indies  Hot and humid  Slow       0  \n",
       "2  West Indies  Hot and humid  Slow       0  \n",
       "3  West Indies  Hot and humid  Slow       0  \n",
       "4  West Indies  Hot and humid  Slow       0  "
      ]
     },
     "execution_count": 7,
     "metadata": {},
     "output_type": "execute_result"
    }
   ],
   "source": [
    "df.head(5)"
   ]
  },
  {
   "cell_type": "code",
   "execution_count": 8,
   "metadata": {},
   "outputs": [],
   "source": [
    "\n",
    "#Converting words to integer values\n",
    "ground=pd.get_dummies(df['Ground'])\n",
    "pitch=pd.get_dummies(df['Pitch'])\n",
    "opponent=pd.get_dummies(df['Opponent'])\n",
    "weather=pd.get_dummies(df['Weather'])\n",
    "homeaway=pd.get_dummies(df['Home Away'])"
   ]
  },
  {
   "cell_type": "code",
   "execution_count": 9,
   "metadata": {},
   "outputs": [],
   "source": [
    "\n",
    "df.drop([' Sr.No.','Home Away','Name','Ground','Pitch','Home Strike Rate','Away Strike Rate','Home Average','Away Average','Opponent','Weather'],axis=1,inplace=True)\n"
   ]
  },
  {
   "cell_type": "code",
   "execution_count": 10,
   "metadata": {},
   "outputs": [],
   "source": [
    "df=pd.concat([df,ground,pitch,opponent,weather,homeaway],axis=1)\n"
   ]
  },
  {
   "cell_type": "code",
   "execution_count": 11,
   "metadata": {},
   "outputs": [],
   "source": [
    "X=df.drop('Result',axis=1)\n"
   ]
  },
  {
   "cell_type": "code",
   "execution_count": 12,
   "metadata": {},
   "outputs": [],
   "source": [
    "y=df['Result']"
   ]
  },
  {
   "cell_type": "code",
   "execution_count": 13,
   "metadata": {},
   "outputs": [
    {
     "name": "stderr",
     "output_type": "stream",
     "text": [
      "C:\\Users\\sankalp\\Anaconda3\\lib\\site-packages\\sklearn\\ensemble\\forest.py:246: FutureWarning: The default value of n_estimators will change from 10 in version 0.20 to 100 in 0.22.\n",
      "  \"10 in version 0.20 to 100 in 0.22.\", FutureWarning)\n"
     ]
    }
   ],
   "source": [
    "from sklearn.ensemble import RandomForestClassifier\n",
    "rfmodel=RandomForestClassifier()\n",
    "\n",
    "#Fitting model with trainig data\n",
    "rfmodel.fit(X, y)\n",
    "\n",
    "# Saving model to disk\n",
    "pickle.dump(rfmodel, open('model3.pkl','wb'))\n",
    "\n",
    "# Loading model to compare the results\n",
    "model = pickle.load(open('model3.pkl','rb'))\n",
    "#print(model.predict([[2, 9, 6]]))\n"
   ]
  },
  {
   "cell_type": "code",
   "execution_count": 14,
   "metadata": {},
   "outputs": [
    {
     "name": "stdout",
     "output_type": "stream",
     "text": [
      "[1]\n"
     ]
    }
   ],
   "source": [
    "print(rfmodel.predict([[114,5,132,0,0,0,0,0,1,0,1,0,0,0,0,0,0,0,0,1,0,0,0,0,0,0,0,1,0,0,1,0,0,0,1,0,1]]))"
   ]
  },
  {
   "cell_type": "code",
   "execution_count": 15,
   "metadata": {},
   "outputs": [
    {
     "data": {
      "text/plain": [
       "Index(['Matches Played', 'Wickets', 'Runs Scored', 'Bay Oval', 'Chandigarh',\n",
       "       'Delhi', 'Edgbaston', 'Headingley', 'Hyderabad', 'McLean Park',\n",
       "       'Old Trafford', 'Ranchi', 'Seddon Park', 'Southampton', 'The Oval',\n",
       "       'Trinidad', 'Vidharbha', 'Wellington', 'Batting', 'Bounce and Pace',\n",
       "       'Bowling', 'Pace and Bounce', 'Slow', 'Slow and low', 'Swinging',\n",
       "       'Afghanistan', 'Australia', 'Bangladseh', 'England', 'New zealand',\n",
       "       'South Africa', 'Sri Lanka', 'West Indies', 'Cold', 'Hot and humid',\n",
       "       'Away', 'Home'],\n",
       "      dtype='object')"
      ]
     },
     "execution_count": 15,
     "metadata": {},
     "output_type": "execute_result"
    }
   ],
   "source": [
    "X.columns"
   ]
  },
  {
   "cell_type": "code",
   "execution_count": null,
   "metadata": {},
   "outputs": [],
   "source": []
  },
  {
   "cell_type": "code",
   "execution_count": null,
   "metadata": {},
   "outputs": [],
   "source": []
  }
 ],
 "metadata": {
  "kernelspec": {
   "display_name": "Python 3",
   "language": "python",
   "name": "python3"
  },
  "language_info": {
   "codemirror_mode": {
    "name": "ipython",
    "version": 3
   },
   "file_extension": ".py",
   "mimetype": "text/x-python",
   "name": "python",
   "nbconvert_exporter": "python",
   "pygments_lexer": "ipython3",
   "version": "3.7.1"
  }
 },
 "nbformat": 4,
 "nbformat_minor": 2
}
