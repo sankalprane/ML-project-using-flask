{
 "cells": [
  {
   "cell_type": "code",
   "execution_count": 35,
   "metadata": {},
   "outputs": [
    {
     "name": "stderr",
     "output_type": "stream",
     "text": [
      "C:\\Users\\sankalp\\Anaconda3\\lib\\site-packages\\sklearn\\linear_model\\logistic.py:433: FutureWarning: Default solver will be changed to 'lbfgs' in 0.22. Specify a solver to silence this warning.\n",
      "  FutureWarning)\n",
      "C:\\Users\\sankalp\\Anaconda3\\lib\\site-packages\\sklearn\\linear_model\\logistic.py:460: FutureWarning: Default multi_class will be changed to 'auto' in 0.22. Specify the multi_class option to silence this warning.\n",
      "  \"this warning.\", FutureWarning)\n"
     ]
    }
   ],
   "source": [
    "# Importing the libraries\n",
    "import numpy as np\n",
    "import matplotlib.pyplot as plt\n",
    "import pandas as pd\n",
    "import pickle\n",
    "\n",
    "df = pd.read_csv('Cricket2.csv')\n",
    "\n",
    "df.dropna(inplace=True)\n",
    "\n",
    "#Converting words to integer values\n",
    "ground=pd.get_dummies(df['Ground'])\n",
    "pitch=pd.get_dummies(df['Pitch'])\n",
    "opponent=pd.get_dummies(df['Opponent'])\n",
    "weather=pd.get_dummies(df['Weather'])\n",
    "homeaway=pd.get_dummies(df['Home Away'])\n",
    "\n",
    "df.drop(['Home Away','Name','Sr.No.','Runs','Ground','Pitch','Fours','Sixs','Strike Rate','Opponent','Weather'],axis=1,inplace=True)\n",
    "\n",
    "df=pd.concat([df,ground,pitch,opponent,weather,homeaway],axis=1)\n",
    "\n",
    "X=df.drop('Result',axis=1)\n",
    "\n",
    "y=df['Result']\n",
    "\n",
    "#Splitting Training and Test Set\n",
    "#Since we have a very small dataset, we will train our model with all availabe data.\n",
    "\n",
    "\n",
    "from sklearn.linear_model import LogisticRegression\n",
    "regressor = LogisticRegression()\n",
    "\n",
    "#Fitting model with trainig data\n",
    "regressor.fit(X, y)\n",
    "\n",
    "# Saving model to disk\n",
    "pickle.dump(regressor, open('model.pkl','wb'))\n",
    "\n",
    "# Loading model to compare the results\n",
    "model = pickle.load(open('model.pkl','rb'))\n",
    "#print(model.predict([[2, 9, 6]]))\n"
   ]
  },
  {
   "cell_type": "code",
   "execution_count": 41,
   "metadata": {},
   "outputs": [
    {
     "name": "stdout",
     "output_type": "stream",
     "text": [
      "[5]\n"
     ]
    }
   ],
   "source": [
    "print(regressor.predict([[1,54,43,60,0,1,0,0,0,0,0,0,0,0,0,0,0,0,0,0,1,0,0,0,0,0,1,0,0,0,0,0,0,0,1,0,0,1]]))"
   ]
  },
  {
   "cell_type": "code",
   "execution_count": 11,
   "metadata": {},
   "outputs": [
    {
     "name": "stdout",
     "output_type": "stream",
     "text": [
      "              precision    recall  f1-score   support\n",
      "\n",
      "           0       0.76      0.89      0.82        64\n",
      "           1       0.54      0.54      0.54        24\n",
      "           2       0.64      0.37      0.47        19\n",
      "           3       0.33      0.17      0.22         6\n",
      "           4       0.00      0.00      0.00         1\n",
      "           5       0.57      0.57      0.57         7\n",
      "\n",
      "   micro avg       0.68      0.68      0.68       121\n",
      "   macro avg       0.47      0.42      0.44       121\n",
      "weighted avg       0.66      0.68      0.66       121\n",
      "\n",
      "[[57  5  1  0  1  0]\n",
      " [ 8 13  1  1  0  1]\n",
      " [ 7  5  7  0  0  0]\n",
      " [ 1  0  2  1  0  2]\n",
      " [ 0  0  0  1  0  0]\n",
      " [ 2  1  0  0  0  4]]\n"
     ]
    },
    {
     "name": "stderr",
     "output_type": "stream",
     "text": [
      "C:\\Users\\sankalp\\Anaconda3\\lib\\site-packages\\sklearn\\linear_model\\logistic.py:433: FutureWarning: Default solver will be changed to 'lbfgs' in 0.22. Specify a solver to silence this warning.\n",
      "  FutureWarning)\n",
      "C:\\Users\\sankalp\\Anaconda3\\lib\\site-packages\\sklearn\\linear_model\\logistic.py:460: FutureWarning: Default multi_class will be changed to 'auto' in 0.22. Specify the multi_class option to silence this warning.\n",
      "  \"this warning.\", FutureWarning)\n"
     ]
    }
   ],
   "source": [
    "from sklearn.model_selection import train_test_split\n",
    "X_train, X_test, y_train, y_test = train_test_split(X, y, test_size=0.2, random_state=1)\n",
    "from sklearn.linear_model import LogisticRegression\n",
    "logmodel = LogisticRegression()\n",
    "logmodel.fit(X,y)\n",
    "predictions = logmodel.predict(X_test)\n",
    "from sklearn.metrics import classification_report,confusion_matrix\n",
    "print(classification_report(y_test,predictions))\n",
    "print(confusion_matrix(y_test,predictions))"
   ]
  },
  {
   "cell_type": "code",
   "execution_count": 31,
   "metadata": {},
   "outputs": [
    {
     "name": "stdout",
     "output_type": "stream",
     "text": [
      "              precision    recall  f1-score   support\n",
      "\n",
      "           0       0.97      0.91      0.94        68\n",
      "           1       0.81      0.74      0.77        23\n",
      "           2       0.47      0.89      0.62         9\n",
      "           3       0.75      0.75      0.75         8\n",
      "           4       0.57      0.67      0.62         6\n",
      "           5       1.00      0.57      0.73         7\n",
      "\n",
      "   micro avg       0.83      0.83      0.83       121\n",
      "   macro avg       0.76      0.75      0.74       121\n",
      "weighted avg       0.87      0.83      0.84       121\n",
      "\n",
      "[[62  3  3  0  0  0]\n",
      " [ 2 17  4  0  0  0]\n",
      " [ 0  1  8  0  0  0]\n",
      " [ 0  0  2  6  0  0]\n",
      " [ 0  0  0  2  4  0]\n",
      " [ 0  0  0  0  3  4]]\n"
     ]
    },
    {
     "name": "stderr",
     "output_type": "stream",
     "text": [
      "C:\\Users\\sankalp\\Anaconda3\\lib\\site-packages\\sklearn\\ensemble\\forest.py:246: FutureWarning: The default value of n_estimators will change from 10 in version 0.20 to 100 in 0.22.\n",
      "  \"10 in version 0.20 to 100 in 0.22.\", FutureWarning)\n"
     ]
    }
   ],
   "source": [
    "from sklearn.model_selection import train_test_split\n",
    "X_train, X_test, y_train, y_test = train_test_split(X, y, test_size=0.2, random_state=101)\n",
    "from sklearn.svm import SVR\n",
    "from sklearn.ensemble import RandomForestRegressor\n",
    "regressor=RandomForestRegressor()\n",
    "regressor.fit(X,y)\n",
    "predictions = np.around(regressor.predict(X_test))\n",
    "from sklearn.metrics import classification_report,confusion_matrix\n",
    "print(classification_report(y_test,predictions))\n",
    "print(confusion_matrix(y_test,predictions))"
   ]
  },
  {
   "cell_type": "code",
   "execution_count": 34,
   "metadata": {},
   "outputs": [
    {
     "name": "stdout",
     "output_type": "stream",
     "text": [
      "              precision    recall  f1-score   support\n",
      "\n",
      "           0       0.96      0.65      0.77        68\n",
      "           1       0.28      0.57      0.38        23\n",
      "           2       0.06      0.11      0.08         9\n",
      "           3       0.25      0.38      0.30         8\n",
      "           4       0.00      0.00      0.00         6\n",
      "           5       0.00      0.00      0.00         7\n",
      "\n",
      "   micro avg       0.50      0.50      0.50       121\n",
      "   macro avg       0.26      0.28      0.25       121\n",
      "weighted avg       0.61      0.50      0.53       121\n",
      "\n",
      "[[44 18  6  0  0  0]\n",
      " [ 1 13  5  4  0  0]\n",
      " [ 1  5  1  2  0  0]\n",
      " [ 0  3  2  3  0  0]\n",
      " [ 0  4  2  0  0  0]\n",
      " [ 0  3  1  3  0  0]]\n"
     ]
    },
    {
     "name": "stderr",
     "output_type": "stream",
     "text": [
      "C:\\Users\\sankalp\\Anaconda3\\lib\\site-packages\\sklearn\\metrics\\classification.py:1143: UndefinedMetricWarning: Precision and F-score are ill-defined and being set to 0.0 in labels with no predicted samples.\n",
      "  'precision', 'predicted', average, warn_for)\n"
     ]
    }
   ],
   "source": [
    "from sklearn.model_selection import train_test_split\n",
    "X_train, X_test, y_train, y_test = train_test_split(X, y, test_size=0.2, random_state=101)\n",
    "from sklearn.svm import SVR\n",
    "regressor=SVR(C=1.0, cache_size=200, coef0=0.0, degree=7, epsilon=0.2, gamma='scale',\n",
    "    kernel='rbf', max_iter=-1, shrinking=True, tol=0.001, verbose=False)\n",
    "regressor.fit(X,y)\n",
    "predictions = np.around(regressor.predict(X_test))\n",
    "from sklearn.metrics import classification_report,confusion_matrix\n",
    "print(classification_report(y_test,predictions))\n",
    "print(confusion_matrix(y_test,predictions))"
   ]
  },
  {
   "cell_type": "code",
   "execution_count": null,
   "metadata": {},
   "outputs": [],
   "source": []
  }
 ],
 "metadata": {
  "kernelspec": {
   "display_name": "Python 3",
   "language": "python",
   "name": "python3"
  },
  "language_info": {
   "codemirror_mode": {
    "name": "ipython",
    "version": 3
   },
   "file_extension": ".py",
   "mimetype": "text/x-python",
   "name": "python",
   "nbconvert_exporter": "python",
   "pygments_lexer": "ipython3",
   "version": "3.7.1"
  }
 },
 "nbformat": 4,
 "nbformat_minor": 2
}
